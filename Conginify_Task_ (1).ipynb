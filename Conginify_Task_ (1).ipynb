{
 "cells": [
  {
   "cell_type": "markdown",
   "id": "1d599a18-81a1-42b7-8d2e-0dac3cebf5d6",
   "metadata": {},
   "source": [
    "# Task - Objective (Level-1)"
   ]
  },
  {
   "cell_type": "markdown",
   "id": "b1c29ff7-45f0-4823-97d1-fc27288a8a7e",
   "metadata": {},
   "source": [
    "- Expertise in Python programming and Data Manipulation\n",
    "\n",
    "- Extract valuable insights from large datasets and drive informed decision-making.\n",
    "\n",
    "- Data cleaning and preprocessing data, performing statistical analysis, or creating data\n",
    "visualizations,\n",
    "\n",
    "- Proficiency in Python will play a crucial role in delivering meaningful results."
   ]
  },
  {
   "cell_type": "markdown",
   "id": "43c2d2d7-e016-45c0-a16b-9237753e4ea0",
   "metadata": {},
   "source": [
    "# 1. Load Python Modules"
   ]
  },
  {
   "cell_type": "code",
   "execution_count": 2,
   "id": "4591cbfa-5ccc-4ce8-931d-d6d61d9653f7",
   "metadata": {},
   "outputs": [
    {
     "ename": "ImportError",
     "evalue": "DLL load failed while importing _cext: The specified module could not be found.",
     "output_type": "error",
     "traceback": [
      "\u001b[1;31m---------------------------------------------------------------------------\u001b[0m",
      "\u001b[1;31mImportError\u001b[0m                               Traceback (most recent call last)",
      "Cell \u001b[1;32mIn[2], line 3\u001b[0m\n\u001b[0;32m      1\u001b[0m \u001b[38;5;28;01mimport\u001b[39;00m \u001b[38;5;21;01mpandas\u001b[39;00m \u001b[38;5;28;01mas\u001b[39;00m \u001b[38;5;21;01mpd\u001b[39;00m\n\u001b[0;32m      2\u001b[0m \u001b[38;5;28;01mimport\u001b[39;00m \u001b[38;5;21;01mnumpy\u001b[39;00m \u001b[38;5;28;01mas\u001b[39;00m \u001b[38;5;21;01mnp\u001b[39;00m \n\u001b[1;32m----> 3\u001b[0m \u001b[38;5;28;01mimport\u001b[39;00m \u001b[38;5;21;01mmatplotlib\u001b[39;00m\u001b[38;5;21;01m.\u001b[39;00m\u001b[38;5;21;01mpyplot\u001b[39;00m \u001b[38;5;28;01mas\u001b[39;00m \u001b[38;5;21;01mplt\u001b[39;00m \n\u001b[0;32m      4\u001b[0m \u001b[38;5;28;01mimport\u001b[39;00m \u001b[38;5;21;01mseaborn\u001b[39;00m \u001b[38;5;28;01mas\u001b[39;00m \u001b[38;5;21;01msns\u001b[39;00m\n\u001b[0;32m      5\u001b[0m \u001b[38;5;28;01mfrom\u001b[39;00m \u001b[38;5;21;01mtabulate\u001b[39;00m \u001b[38;5;28;01mimport\u001b[39;00m tabulate\n",
      "File \u001b[1;32mc:\\Users\\hi\\AppData\\Local\\Programs\\Python\\Python312\\Lib\\site-packages\\matplotlib\\__init__.py:276\u001b[0m\n\u001b[0;32m    271\u001b[0m         \u001b[38;5;28;01mif\u001b[39;00m parse_version(module\u001b[38;5;241m.\u001b[39m__version__) \u001b[38;5;241m<\u001b[39m parse_version(minver):\n\u001b[0;32m    272\u001b[0m             \u001b[38;5;28;01mraise\u001b[39;00m \u001b[38;5;167;01mImportError\u001b[39;00m(\u001b[38;5;124mf\u001b[39m\u001b[38;5;124m\"\u001b[39m\u001b[38;5;124mMatplotlib requires \u001b[39m\u001b[38;5;132;01m{\u001b[39;00mmodname\u001b[38;5;132;01m}\u001b[39;00m\u001b[38;5;124m>=\u001b[39m\u001b[38;5;132;01m{\u001b[39;00mminver\u001b[38;5;132;01m}\u001b[39;00m\u001b[38;5;124m; \u001b[39m\u001b[38;5;124m\"\u001b[39m\n\u001b[0;32m    273\u001b[0m                               \u001b[38;5;124mf\u001b[39m\u001b[38;5;124m\"\u001b[39m\u001b[38;5;124myou have \u001b[39m\u001b[38;5;132;01m{\u001b[39;00mmodule\u001b[38;5;241m.\u001b[39m__version__\u001b[38;5;132;01m}\u001b[39;00m\u001b[38;5;124m\"\u001b[39m)\n\u001b[1;32m--> 276\u001b[0m \u001b[43m_check_versions\u001b[49m\u001b[43m(\u001b[49m\u001b[43m)\u001b[49m\n\u001b[0;32m    279\u001b[0m \u001b[38;5;66;03m# The decorator ensures this always returns the same handler (and it is only\u001b[39;00m\n\u001b[0;32m    280\u001b[0m \u001b[38;5;66;03m# attached once).\u001b[39;00m\n\u001b[0;32m    281\u001b[0m \u001b[38;5;129m@functools\u001b[39m\u001b[38;5;241m.\u001b[39mcache\n\u001b[0;32m    282\u001b[0m \u001b[38;5;28;01mdef\u001b[39;00m \u001b[38;5;21m_ensure_handler\u001b[39m():\n",
      "File \u001b[1;32mc:\\Users\\hi\\AppData\\Local\\Programs\\Python\\Python312\\Lib\\site-packages\\matplotlib\\__init__.py:270\u001b[0m, in \u001b[0;36m_check_versions\u001b[1;34m()\u001b[0m\n\u001b[0;32m    261\u001b[0m \u001b[38;5;28;01mfrom\u001b[39;00m \u001b[38;5;21;01m.\u001b[39;00m \u001b[38;5;28;01mimport\u001b[39;00m ft2font  \u001b[38;5;66;03m# noqa: F401\u001b[39;00m\n\u001b[0;32m    263\u001b[0m \u001b[38;5;28;01mfor\u001b[39;00m modname, minver \u001b[38;5;129;01min\u001b[39;00m [\n\u001b[0;32m    264\u001b[0m         (\u001b[38;5;124m\"\u001b[39m\u001b[38;5;124mcycler\u001b[39m\u001b[38;5;124m\"\u001b[39m, \u001b[38;5;124m\"\u001b[39m\u001b[38;5;124m0.10\u001b[39m\u001b[38;5;124m\"\u001b[39m),\n\u001b[0;32m    265\u001b[0m         (\u001b[38;5;124m\"\u001b[39m\u001b[38;5;124mdateutil\u001b[39m\u001b[38;5;124m\"\u001b[39m, \u001b[38;5;124m\"\u001b[39m\u001b[38;5;124m2.7\u001b[39m\u001b[38;5;124m\"\u001b[39m),\n\u001b[1;32m   (...)\u001b[0m\n\u001b[0;32m    268\u001b[0m         (\u001b[38;5;124m\"\u001b[39m\u001b[38;5;124mpyparsing\u001b[39m\u001b[38;5;124m\"\u001b[39m, \u001b[38;5;124m\"\u001b[39m\u001b[38;5;124m2.3.1\u001b[39m\u001b[38;5;124m\"\u001b[39m),\n\u001b[0;32m    269\u001b[0m ]:\n\u001b[1;32m--> 270\u001b[0m     module \u001b[38;5;241m=\u001b[39m \u001b[43mimportlib\u001b[49m\u001b[38;5;241;43m.\u001b[39;49m\u001b[43mimport_module\u001b[49m\u001b[43m(\u001b[49m\u001b[43mmodname\u001b[49m\u001b[43m)\u001b[49m\n\u001b[0;32m    271\u001b[0m     \u001b[38;5;28;01mif\u001b[39;00m parse_version(module\u001b[38;5;241m.\u001b[39m__version__) \u001b[38;5;241m<\u001b[39m parse_version(minver):\n\u001b[0;32m    272\u001b[0m         \u001b[38;5;28;01mraise\u001b[39;00m \u001b[38;5;167;01mImportError\u001b[39;00m(\u001b[38;5;124mf\u001b[39m\u001b[38;5;124m\"\u001b[39m\u001b[38;5;124mMatplotlib requires \u001b[39m\u001b[38;5;132;01m{\u001b[39;00mmodname\u001b[38;5;132;01m}\u001b[39;00m\u001b[38;5;124m>=\u001b[39m\u001b[38;5;132;01m{\u001b[39;00mminver\u001b[38;5;132;01m}\u001b[39;00m\u001b[38;5;124m; \u001b[39m\u001b[38;5;124m\"\u001b[39m\n\u001b[0;32m    273\u001b[0m                           \u001b[38;5;124mf\u001b[39m\u001b[38;5;124m\"\u001b[39m\u001b[38;5;124myou have \u001b[39m\u001b[38;5;132;01m{\u001b[39;00mmodule\u001b[38;5;241m.\u001b[39m__version__\u001b[38;5;132;01m}\u001b[39;00m\u001b[38;5;124m\"\u001b[39m)\n",
      "File \u001b[1;32mc:\\Users\\hi\\AppData\\Local\\Programs\\Python\\Python312\\Lib\\importlib\\__init__.py:90\u001b[0m, in \u001b[0;36mimport_module\u001b[1;34m(name, package)\u001b[0m\n\u001b[0;32m     88\u001b[0m             \u001b[38;5;28;01mbreak\u001b[39;00m\n\u001b[0;32m     89\u001b[0m         level \u001b[38;5;241m+\u001b[39m\u001b[38;5;241m=\u001b[39m \u001b[38;5;241m1\u001b[39m\n\u001b[1;32m---> 90\u001b[0m \u001b[38;5;28;01mreturn\u001b[39;00m \u001b[43m_bootstrap\u001b[49m\u001b[38;5;241;43m.\u001b[39;49m\u001b[43m_gcd_import\u001b[49m\u001b[43m(\u001b[49m\u001b[43mname\u001b[49m\u001b[43m[\u001b[49m\u001b[43mlevel\u001b[49m\u001b[43m:\u001b[49m\u001b[43m]\u001b[49m\u001b[43m,\u001b[49m\u001b[43m \u001b[49m\u001b[43mpackage\u001b[49m\u001b[43m,\u001b[49m\u001b[43m \u001b[49m\u001b[43mlevel\u001b[49m\u001b[43m)\u001b[49m\n",
      "File \u001b[1;32mc:\\Users\\hi\\AppData\\Local\\Programs\\Python\\Python312\\Lib\\site-packages\\kiwisolver\\__init__.py:8\u001b[0m\n\u001b[0;32m      1\u001b[0m \u001b[38;5;66;03m# --------------------------------------------------------------------------------------\u001b[39;00m\n\u001b[0;32m      2\u001b[0m \u001b[38;5;66;03m# Copyright (c) 2013-2022, Nucleic Development Team.\u001b[39;00m\n\u001b[0;32m      3\u001b[0m \u001b[38;5;66;03m#\u001b[39;00m\n\u001b[1;32m   (...)\u001b[0m\n\u001b[0;32m      6\u001b[0m \u001b[38;5;66;03m# The full license is in the file LICENSE, distributed with this software.\u001b[39;00m\n\u001b[0;32m      7\u001b[0m \u001b[38;5;66;03m# --------------------------------------------------------------------------------------\u001b[39;00m\n\u001b[1;32m----> 8\u001b[0m \u001b[38;5;28;01mfrom\u001b[39;00m \u001b[38;5;21;01m.\u001b[39;00m\u001b[38;5;21;01m_cext\u001b[39;00m \u001b[38;5;28;01mimport\u001b[39;00m (\n\u001b[0;32m      9\u001b[0m     Constraint,\n\u001b[0;32m     10\u001b[0m     Expression,\n\u001b[0;32m     11\u001b[0m     Solver,\n\u001b[0;32m     12\u001b[0m     Term,\n\u001b[0;32m     13\u001b[0m     Variable,\n\u001b[0;32m     14\u001b[0m     __kiwi_version__,\n\u001b[0;32m     15\u001b[0m     __version__,\n\u001b[0;32m     16\u001b[0m     strength,\n\u001b[0;32m     17\u001b[0m )\n\u001b[0;32m     18\u001b[0m \u001b[38;5;28;01mfrom\u001b[39;00m \u001b[38;5;21;01m.\u001b[39;00m\u001b[38;5;21;01mexceptions\u001b[39;00m \u001b[38;5;28;01mimport\u001b[39;00m (\n\u001b[0;32m     19\u001b[0m     BadRequiredStrength,\n\u001b[0;32m     20\u001b[0m     DuplicateConstraint,\n\u001b[1;32m   (...)\u001b[0m\n\u001b[0;32m     24\u001b[0m     UnsatisfiableConstraint,\n\u001b[0;32m     25\u001b[0m )\n\u001b[0;32m     27\u001b[0m __all__ \u001b[38;5;241m=\u001b[39m [\n\u001b[0;32m     28\u001b[0m     \u001b[38;5;124m\"\u001b[39m\u001b[38;5;124mBadRequiredStrength\u001b[39m\u001b[38;5;124m\"\u001b[39m,\n\u001b[0;32m     29\u001b[0m     \u001b[38;5;124m\"\u001b[39m\u001b[38;5;124mDuplicateConstraint\u001b[39m\u001b[38;5;124m\"\u001b[39m,\n\u001b[1;32m   (...)\u001b[0m\n\u001b[0;32m     41\u001b[0m     \u001b[38;5;124m\"\u001b[39m\u001b[38;5;124m__kiwi_version__\u001b[39m\u001b[38;5;124m\"\u001b[39m,\n\u001b[0;32m     42\u001b[0m ]\n",
      "\u001b[1;31mImportError\u001b[0m: DLL load failed while importing _cext: The specified module could not be found."
     ]
    }
   ],
   "source": [
    "import pandas as pd\n",
    "import numpy as np \n",
    "import matplotlib.pyplot as plt \n",
    "import seaborn as sns\n",
    "from tabulate import tabulate"
   ]
  },
  {
   "cell_type": "markdown",
   "id": "00f8b8d8-5e9d-43e4-b201-fc20063daf59",
   "metadata": {},
   "source": [
    "# 2. Read the Dataset from CSV file - Using Pandas"
   ]
  },
  {
   "cell_type": "code",
   "execution_count": null,
   "id": "fe2315ab-68ce-4542-8ca5-e9b8104422d9",
   "metadata": {},
   "outputs": [],
   "source": [
    "restaurant_df=pd.read_csv(r\"C:\\Users\\HP\\Downloads\\Dataset .csv\")\n",
    "restaurant_df"
   ]
  },
  {
   "cell_type": "markdown",
   "id": "4d76a4a9-4768-4368-b829-76d37c2547f5",
   "metadata": {},
   "source": [
    "# 3. Basic Inspection on given dataset"
   ]
  },
  {
   "cell_type": "code",
   "execution_count": null,
   "id": "a3c3f721-da6f-4a2f-9526-564e23811f58",
   "metadata": {},
   "outputs": [],
   "source": [
    "def basic_inspection_dataset(table):\n",
    "    \"\"\"Generates a basic inspection dataset from the given table.\"\"\"\n",
    "    print(\"top 5 rows - using head\")\n",
    "    print(table.head())\n",
    "    print()\n",
    "    print(\"bottom 5 rows using tail\")\n",
    "    print(table.tail())\n",
    "    print()\n",
    "    print(\"numbers of samples and columns\")\n",
    "    print(table.shape)\n",
    "    print()\n",
    "    print(\"numbers of samples \")\n",
    "    print(len(table))\n",
    "    print()\n",
    "    print(\"numbers of entries in the data frame\")\n",
    "    print(table.size)\n",
    "    print()\n",
    "    print(\"Columns Names\")\n",
    "    print(table.columns)\n",
    "    print()\n",
    "    print(\"Columns dtypes\")\n",
    "    print(table.dtypes)\n",
    "    print()\n",
    "    print(\"Dataframe info\")\n",
    "    print(table.info())\n",
    "    print()\n",
    "    print()\n",
    "    print(\"check the missing value in each column\")\n",
    "    print(table.isnull().sum())\n",
    "    print()\n",
    "    print(\"check the missing value in each column\")\n",
    "    print(table.isna().sum())\n",
    "basic_inspection_dataset(restaurant_df)\n",
    "    \n"
   ]
  },
  {
   "cell_type": "markdown",
   "id": "b05f7b35-4364-4fb7-bb40-66cdfc7bbb07",
   "metadata": {},
   "source": [
    "# 4. Handling Missing Values"
   ]
  },
  {
   "cell_type": "code",
   "execution_count": null,
   "id": "14bf1772-1e0b-4ff6-b57f-0be68002fe79",
   "metadata": {},
   "outputs": [],
   "source": [
    "#For a categorical variable, determine the most frequent value, known as the mode.\n",
    "cuisine_mode = restaurant_df['Cuisines'].mode()[0]\n",
    "print(cuisine_mode)\n",
    "# fill the missing value with mode\n",
    "restaurant_df['Cuisines'].fillna(cuisine_mode,inplace=True)\n",
    "# check for missing values - for confirmation\n",
    "restaurant_df.isnull().sum()"
   ]
  },
  {
   "cell_type": "markdown",
   "id": "352a8177-4776-4f82-9b47-19062f00184e",
   "metadata": {},
   "source": [
    "# Level 1, Task 1: Top Cuisines"
   ]
  },
  {
   "cell_type": "markdown",
   "id": "0b099d6b-aad3-45ce-8bf3-880acfb136d1",
   "metadata": {},
   "source": [
    "# 1.1.1 Determine the top three most common cuisines in Dataset."
   ]
  },
  {
   "cell_type": "code",
   "execution_count": null,
   "id": "0c75dd36-e2f4-4e32-ad98-4e71411bdd0c",
   "metadata": {},
   "outputs": [],
   "source": [
    "def frequency_table_variable(cat_name,count):\n",
    "    \"\"\"Generate a frequency table for the categorical variable\n",
    "    'cat_name' with top 'count' occurrences.\"\"\"\n",
    "    value_counts = restaurant_df[cat_name].value_counts().reset_index().head(count)\n",
    "    # Give names to the columns\n",
    "    value_counts.columns = ['Cuisines', 'Frequency']\n",
    "    # Print the result as a table\n",
    "    print(tabulate(value_counts, headers='keys', tablefmt='pretty'))\n",
    "    print()\n",
    "    print(value_counts[\"Cuisines\"])\n",
    "print(\"Top Three most common cuisines in Dataset:\")\n",
    "frequency_table_variable(\"Cuisines\",3)\n"
   ]
  },
  {
   "cell_type": "code",
   "execution_count": null,
   "id": "28c2262e-2d1d-4773-9b35-535294aaf0fc",
   "metadata": {},
   "outputs": [],
   "source": [
    "def calculate_relative_frequency(city,count):\n",
    "    \"\"\"Calculates the relative frequency of a certain 'city' based on\n",
    "    the top 'count' of occurrences.\"\"\"\n",
    "    value_counts = restaurant_df[city].value_counts().reset_index().head(count)\n",
    "    # Rename the columns\n",
    "    value_counts.columns = ['Cuisines', 'Count']\n",
    "    value_counts['Percentage'] = round((value_counts['Count'] /\n",
    "    len(restaurant_df))*100,2)\n",
    "    # Print the result as a table\n",
    "    print(tabulate(value_counts, headers='keys', tablefmt='pretty'))\n",
    "    plt.figure(figsize=(5,5))\n",
    "    values = value_counts.Cuisines\n",
    "    labels = value_counts.Count\n",
    "    plt.bar(values,labels)\n",
    "    plt.title('Top three Cuisines')\n",
    "    plt.xlabel('Cuisines')\n",
    "    plt.ylabel(\"Count - Frequency\")\n",
    "    plt.show()\n",
    "    plt.title('Percentage of restaurantrants that serve each of the top cuisines.')\n",
    "    plt.pie(value_counts['Percentage'],labels=value_counts['Cuisines'],autopct='%0.2f%%',startangle=90)\n",
    "    plt.show()\n",
    "calculate_relative_frequency(\"Cuisines\",3)"
   ]
  },
  {
   "cell_type": "markdown",
   "id": "6165fd51-9352-4011-a2b5-e1d2c3f513b0",
   "metadata": {},
   "source": [
    "# Level 1, Task 2 : City Analysis"
   ]
  },
  {
   "cell_type": "markdown",
   "id": "1758dc22-acd6-48c9-aecb-a6dc63546cd0",
   "metadata": {},
   "source": [
    "# 1.2.1 Identify the city with the highest number of restaurants in the\r\n",
    "dataset"
   ]
  },
  {
   "cell_type": "code",
   "execution_count": null,
   "id": "110c6235-a7d4-4210-a1e3-9dd35fb6f4c4",
   "metadata": {},
   "outputs": [],
   "source": [
    "print(\"City with the highest number of restaurants in the dataset.\")\n",
    "frequency_table_variable(\"City\",1)"
   ]
  },
  {
   "cell_type": "markdown",
   "id": "c3cbd259-f4bf-494c-ad41-900e5b1abb59",
   "metadata": {},
   "source": [
    "# 1.2.2 Calculate the average rating for restaurants in each city."
   ]
  },
  {
   "cell_type": "code",
   "execution_count": null,
   "id": "4a19f61d-62c7-4454-a7bd-b1df3123717d",
   "metadata": {},
   "outputs": [],
   "source": [
    "# Define the function\n",
    "def calculate_avg_rating_restaurant_by_city(city_column, rating_column):\n",
    "    \"\"\"Calculates the average rating of restaurants in each city.\"\"\"\n",
    "    # Group by the city column and calculate the mean rating\n",
    "    avg_ratings_by_city = restaurant_df.groupby(city_column)[rating_column].mean().reset_index()\n",
    "    \n",
    "    # Display the average ratings\n",
    "    print(avg_ratings_by_city)\n",
    "\n",
    "# Call the function with column names as strings\n",
    "print(\"Calculate the average rating for restaurants in each city\")\n",
    "calculate_avg_rating_restaurant_by_city(\"City\", \"Aggregate rating\")\n"
   ]
  },
  {
   "cell_type": "markdown",
   "id": "c28c225c-cc8e-4455-abf9-587a52b0f246",
   "metadata": {},
   "source": [
    "# 1.2.3 Determine the city with the highest average rating"
   ]
  },
  {
   "cell_type": "code",
   "execution_count": null,
   "id": "582f1152-45e3-4370-a77d-310b0ce85454",
   "metadata": {},
   "outputs": [],
   "source": [
    "# Define the function\n",
    "def calculate_highest_avg_rating(city_column, rating_column):\n",
    "    \"\"\"Calculates the highest average rating among restaurants in each city.\"\"\"\n",
    "    # Group by the city column and calculate the mean rating\n",
    "    avg_ratings = restaurant_df.groupby(city_column)[rating_column].mean().reset_index()\n",
    "    \n",
    "    # Sort by the average rating in descending order to find the highest\n",
    "    avg_ratings = avg_ratings.sort_values(by=rating_column, ascending=False)\n",
    "    \n",
    "    # Display the city with the highest average rating\n",
    "    print(\"City with the highest average rating\")\n",
    "    print(avg_ratings.head(1))\n",
    "\n",
    "# Call the function with column names as strings\n",
    "calculate_highest_avg_rating(\"City\", \"Aggregate rating\")\n"
   ]
  },
  {
   "cell_type": "markdown",
   "id": "27787e0a-aaab-41f4-93a5-933983473ae5",
   "metadata": {},
   "source": [
    "# Level 1, Task 3 : Price Range Distribution\n",
    "# 1.3.1 Create a histogram or bar chart to visualize the distribution\n",
    "# of price ranges among the restaurants"
   ]
  },
  {
   "cell_type": "code",
   "execution_count": null,
   "id": "5344d7c7-311b-4cda-a420-7903c4d73f2b",
   "metadata": {},
   "outputs": [],
   "source": [
    "def draw_bar_plot(price):\n",
    "    \"\"\"Draws a bar plot based on the 'price' data.\"\"\"\n",
    "    price_counts = restaurant_df[price].value_counts()\n",
    "    plt.bar(price_counts.index, price_counts.values, color=['red',\n",
    "    'blue', 'orange','yellow'])\n",
    "    plt.xlabel('Price Range')\n",
    "    plt.ylabel('Number of Restaurants')\n",
    "    plt.title('Distribution of Price Ranges Among Restaurants')\n",
    "    plt.show()\n",
    "draw_bar_plot('Price range')"
   ]
  },
  {
   "cell_type": "markdown",
   "id": "423c57df-b223-4612-a339-ef2c6a735e4e",
   "metadata": {},
   "source": [
    "# 1.3.2 Calculate the percentage of restaurants in each price range category."
   ]
  },
  {
   "cell_type": "code",
   "execution_count": null,
   "id": "a439d3ef-ddba-4838-ab2e-df06ba986699",
   "metadata": {},
   "outputs": [],
   "source": [
    "def cal_per_restaurant_price_range(price):\n",
    "    \"\"\"Calculates the price range percentage restaurant based on the\n",
    "    given 'price' data.\"\"\"\n",
    "    value_counts = restaurant_df[price].value_counts().reset_index()\n",
    "    # Rename the columns\n",
    "    value_counts.columns = ['Price-Range', 'Count']\n",
    "    total_count = value_counts['Count'].sum()\n",
    "    value_counts['Percentage'] = round((value_counts['Count'] /\n",
    "    total_count)*100,2)\n",
    "    # Print the result as a table\n",
    "    print(tabulate(value_counts, headers='keys', tablefmt='pretty'))\n",
    "\n",
    "cal_per_restaurant_price_range(\"Price range\")"
   ]
  },
  {
   "cell_type": "markdown",
   "id": "63169cd0-ba25-4749-818a-82ba4f44d5af",
   "metadata": {},
   "source": [
    "# Level 1 , Task 4: Online Delivery"
   ]
  },
  {
   "cell_type": "markdown",
   "id": "caf63a2b-434c-4741-920a-62a773c7edf7",
   "metadata": {},
   "source": [
    "# 1.4.1 Determine the percentage of restaurants that offer online delivery"
   ]
  },
  {
   "cell_type": "code",
   "execution_count": null,
   "id": "e1f81d94-2d2c-473e-b2b3-507df815ed2e",
   "metadata": {},
   "outputs": [],
   "source": [
    "def per_online_delivery_restaurants(online_delivery):\n",
    "    \"\"\"Calculates the percentage of restaurants offering online\n",
    "    delivery.\"\"\"\n",
    "    total_restaurant_count =restaurant_df.shape[0]\n",
    "    online_restaurnat_count = restaurant_df[restaurant_df[online_delivery]=='Yes']\n",
    "    online_restaurant_count= online_restaurnat_count.shape[0]\n",
    "    # percentage of online order taken by the restaurants\n",
    "    percentage=round((online_restaurant_count/total_restaurant_count)*100,2)\n",
    "    print(percentage)\n",
    "\n",
    "print(\"percentage of online order taken by the restaurants\")\n",
    "per_online_delivery_restaurants('Has Online delivery')"
   ]
  },
  {
   "cell_type": "markdown",
   "id": "b4c25594-6746-49d7-9a13-b931b4477018",
   "metadata": {},
   "source": [
    "# 1.4.2 Compare the average ratings of restaurants with and without online delivery."
   ]
  },
  {
   "cell_type": "code",
   "execution_count": null,
   "id": "03755eca-cfbe-4394-b9c9-acac9c35b9dc",
   "metadata": {},
   "outputs": [],
   "source": [
    "def avg_ratings_by_restaurant_with_without_online_delivery(online_delivery,rating):\n",
    "# average rating of restaurant with and without online delivery\n",
    "    print(restaurant_df.groupby(online_delivery)\n",
    "    [rating].mean().round(2).reset_index())\n",
    "\n",
    "print(\"average rating of restaurant with and without online delivery\")\n",
    "avg_ratings_by_restaurant_with_without_online_delivery('Has Online delivery','Aggregate rating')"
   ]
  },
  {
   "cell_type": "markdown",
   "id": "45f068fd-5dc1-462c-90a9-c2b6a97c7dc3",
   "metadata": {},
   "source": []
  },
  {
   "cell_type": "code",
   "execution_count": null,
   "id": "4872fb31-83d0-44ef-bd18-a1e7e3fe4b27",
   "metadata": {},
   "outputs": [],
   "source": []
  },
  {
   "cell_type": "code",
   "execution_count": null,
   "id": "e6eb1e98-d623-4277-84b3-e1be85b57794",
   "metadata": {},
   "outputs": [],
   "source": []
  },
  {
   "cell_type": "markdown",
   "id": "808d9435-48f1-4077-88ae-76e2cae0d273",
   "metadata": {},
   "source": []
  },
  {
   "cell_type": "markdown",
   "id": "7ceebfe0-66d7-4eef-93f6-8f7945faa1fe",
   "metadata": {},
   "source": [
    "# Task - Objective(Level 2)\n",
    "- Expertise in Python programming and Data Manipulation\n",
    "- Extract valuable insights from large datasets and drive informed decision-making.\n",
    "- Data cleaning and preprocessing data, performing statistical analysis, or creating data visualizations,\n",
    "- Proficiency in Python will play a crucial role in delivering meaningful results"
   ]
  },
  {
   "cell_type": "markdown",
   "id": "d503e043-a732-4658-9464-550d4d129b0f",
   "metadata": {},
   "source": [
    "# 1.Load Python Modules"
   ]
  },
  {
   "cell_type": "code",
   "execution_count": null,
   "id": "d9631a91-0dca-4f5a-8920-01af97bb433e",
   "metadata": {},
   "outputs": [],
   "source": [
    "import pandas as pd \n",
    "import numpy as np\n",
    "import seaborn as sns\n",
    "import matplotlib.pyplot as plt \n",
    "from tabulate import tabulate\n",
    "import itertools\n",
    "import plotly.express as px\n",
    "from sklearn.cluster import KMeans"
   ]
  },
  {
   "cell_type": "markdown",
   "id": "ffbd4774-1769-485d-bd6c-2c11f64d0ae6",
   "metadata": {},
   "source": [
    "# 2. Read the Dataset CSV - using Pandas"
   ]
  },
  {
   "cell_type": "code",
   "execution_count": null,
   "id": "33264f13-34b9-406a-81fa-b457bfa9f4ac",
   "metadata": {},
   "outputs": [],
   "source": [
    "restaurant_df=pd.read_csv(r\"C:\\Users\\HP\\Downloads\\Dataset .csv\")\n",
    "restaurant_df"
   ]
  },
  {
   "cell_type": "markdown",
   "id": "b8fb5ddf-fe7c-41ee-88b2-53c65d90add8",
   "metadata": {},
   "source": [
    "# 3. Basic Inspection - dataset"
   ]
  },
  {
   "cell_type": "code",
   "execution_count": null,
   "id": "a5189eeb-9af5-4e57-96b3-65e6f863f132",
   "metadata": {},
   "outputs": [],
   "source": [
    "def basic_inspection_dataset(table):\n",
    "\n",
    "    print(\"top 5 rows - using head\")\n",
    "    print(table.head())\n",
    "    print()\n",
    "    print(\"bottom 5 rows using tail\")\n",
    "    print(table.tail())\n",
    "    print()\n",
    "    print(\"numbers of samples and columns\")\n",
    "    print(table.shape)\n",
    "    print()\n",
    "    print(\"numbers of samples \")\n",
    "    print(len(table))\n",
    "    print()\n",
    "    print(\"numbers of entries in the data frame\")\n",
    "    print(table.size)\n",
    "    print()\n",
    "    print(\"Columns Names\")\n",
    "    print(table.columns)\n",
    "    print()\n",
    "    print(\"Columns dtypes\")\n",
    "    print(table.dtypes)\n",
    "    print()\n",
    "    print(\"Dataframe info\")\n",
    "    print(table.info())\n",
    "    print()\n",
    "    print()\n",
    "    print(\"check the missing value in each column\")\n",
    "    print(table.isnull().sum())\n",
    "    print()\n",
    "    print(\"check the missing value in each column\")\n",
    "    print(table.isna().sum())\n",
    "basic_inspection_dataset(restaurant_df)\n",
    "    "
   ]
  },
  {
   "cell_type": "markdown",
   "id": "50caef68-368e-4897-b737-db377d34094e",
   "metadata": {},
   "source": [
    "# 4. Handling Missing Values"
   ]
  },
  {
   "cell_type": "code",
   "execution_count": null,
   "id": "63db3cf9-5fd9-46b9-8c88-6ddc4a91ebc1",
   "metadata": {},
   "outputs": [],
   "source": [
    "#For a categorical variable, determine the most frequent value, known as the mode.\n",
    "cuisine_mode = restaurant_df['Cuisines'].mode()[0]\n",
    "print(cuisine_mode)\n",
    "# fill the missing value with mode\n",
    "restaurant_df['Cuisines'].fillna(cuisine_mode,inplace=True)\n",
    "# check for missing values - for confirmation\n",
    "restaurant_df.isnull().sum()"
   ]
  },
  {
   "cell_type": "markdown",
   "id": "ae638382-e8c8-4973-b694-d0c2e520bace",
   "metadata": {},
   "source": [
    "# Level 2, Task 1: Restaurant Ratings\n",
    "## 2.1.1 Analyze the distribution of aggregate ratings and determine the most common rating range"
   ]
  },
  {
   "cell_type": "code",
   "execution_count": null,
   "id": "fb6ee84c-8f81-42a5-98b7-df5ee4abdde1",
   "metadata": {},
   "outputs": [],
   "source": [
    "def distribution_rating(rating,bins):\n",
    "# Create a figure and axes object\n",
    "    fig, axes = plt.subplots(1, 2, figsize=(14, 6))\n",
    "    # Plot histogram without KDE on the left\n",
    "    axes[0].hist(restaurant_df[rating], bins=bins, color='skyblue', edgecolor='black')\n",
    "    axes[0].set_xlabel('Ratings Value')\n",
    "    axes[0].set_ylabel('Frequency')\n",
    "    axes[0].set_title('Restaurant Ratings Histogram')\n",
    "    # Plot histogram with KDE on the right\n",
    "    sns.histplot(data=restaurant_df, x=rating, bins=bins, kde=True, color='orange', edgecolor='black',\n",
    "    ax=axes[1])\n",
    "    axes[1].set_xlabel('Ratings Value')\n",
    "    axes[1].set_ylabel('Density')\n",
    "    axes[1].set_title('Histogram with KDE')\n",
    "    # Adjust layout\n",
    "    plt.tight_layout()\n",
    "    plt.show()"
   ]
  },
  {
   "cell_type": "code",
   "execution_count": null,
   "id": "41d75d2e-4436-4cde-a0da-26f05553fd2e",
   "metadata": {},
   "outputs": [],
   "source": [
    "print(\"Rating Max Count -\", restaurant_df[\"Aggregate rating\"].max())\n",
    "print(\"Rating Min Count - \", restaurant_df[\"Aggregate rating\"].min())"
   ]
  },
  {
   "cell_type": "code",
   "execution_count": null,
   "id": "a2f07d80-0134-4698-b1d3-4a7abe4523dc",
   "metadata": {},
   "outputs": [],
   "source": [
    "bins = [x for x in range(0,6,1)]\n",
    "print(bins)"
   ]
  },
  {
   "cell_type": "code",
   "execution_count": null,
   "id": "a4e98b4d-56e0-4239-998f-8c321069d73a",
   "metadata": {},
   "outputs": [],
   "source": [
    "distribution_rating(\"Aggregate rating\",bins)"
   ]
  },
  {
   "cell_type": "markdown",
   "id": "5465993f-70b2-47ac-9872-776b0b60b06c",
   "metadata": {},
   "source": [
    "# 2.1.2 Calculate the average number of votes received by restaurants."
   ]
  },
  {
   "cell_type": "code",
   "execution_count": null,
   "id": "d175876a-5aa2-4264-aadd-635be0c65c85",
   "metadata": {},
   "outputs": [],
   "source": [
    "# Ensure all values in the 'Cuisines' column are strings and handle NaNs\n",
    "restaurant_df['Cuisines'] = restaurant_df['Cuisines'].fillna('').astype(str)\n",
    "\n",
    "# Split the cuisines column into lists of cuisines\n",
    "restaurant_df['Cuisines'] = restaurant_df['Cuisines'].str.split(',')\n",
    "\n",
    "# Generate all pairs of cuisines for each row using `apply`\n",
    "combinations_series = restaurant_df['Cuisines'].apply(lambda x: list(itertools.combinations(x, 2)))\n",
    "\n",
    "# Explode the list of pairs into individual rows and count\n",
    "combinations_series = combinations_series.explode()\n",
    "combination_counts = combinations_series.value_counts()\n",
    "\n",
    "# Display the top 5 most common cuisine pairs\n",
    "print(combination_counts.head())\n",
    "\n"
   ]
  },
  {
   "cell_type": "code",
   "execution_count": null,
   "id": "7a1daf51-2cb2-4678-bbeb-2c9806697447",
   "metadata": {},
   "outputs": [],
   "source": []
  },
  {
   "cell_type": "markdown",
   "id": "3bad4ebb-aeb1-4694-948c-ac54318c2dff",
   "metadata": {},
   "source": [
    "# 2.2.2 Determine if certain cuisine combinations tend to have higher ratings."
   ]
  },
  {
   "cell_type": "code",
   "execution_count": null,
   "id": "1afb89c2-ea42-446a-8887-d67dd507e8d1",
   "metadata": {},
   "outputs": [],
   "source": [
    "# Assuming 'idf' is your DataFrame\n",
    "restaurant_df['Cuisines'] = restaurant_df['Cuisines'].apply(lambda x: ', '.join(x) if isinstance(x, list)\n",
    "else x)\n",
    "# Display the updated DataFrame\n",
    "print(restaurant_df['Cuisines'])\n",
    "avg_rating=restaurant_df.groupby('Cuisines')['Aggregate rating'].mean()\n",
    "# Average rating in descending order\n",
    "avg_rating=avg_rating.sort_values(ascending=False)\n",
    "print('The Cuisines Combination that have higher ratings:')\n",
    "avg_rating.head()"
   ]
  },
  {
   "cell_type": "markdown",
   "id": "12656031-d286-42b1-9ee9-99dea6f8fb32",
   "metadata": {},
   "source": [
    "# Level 2, Task 3: Geographic Analysis\n",
    "## 2.3.1 Plot the locations of restaurants on a map using longitude and latitude coordinates"
   ]
  },
  {
   "cell_type": "code",
   "execution_count": null,
   "id": "4ee81017-b49a-4772-bf38-116e7e47da34",
   "metadata": {},
   "outputs": [],
   "source": [
    "print(restaurant_df[\"Longitude\"].isnull().sum())\n",
    "print(restaurant_df[\"Latitude\"].isnull().sum())"
   ]
  },
  {
   "cell_type": "code",
   "execution_count": null,
   "id": "ebb895bc-b887-4277-b990-c122652e08cd",
   "metadata": {},
   "outputs": [],
   "source": [
    "# plot the restaurents on the map\n",
    "fig = px.scatter_mapbox(restaurant_df,lat='Latitude', lon='Longitude',\n",
    "hover_name='Restaurant Name', color_discrete_sequence=['red'],\n",
    "zoom=2,\n",
    ")\n",
    "fig.update_layout(\n",
    "mapbox_style=\"open-street-map\",\n",
    ")"
   ]
  },
  {
   "cell_type": "markdown",
   "id": "ef570291-e254-4cb2-875d-7cc87ce5549a",
   "metadata": {},
   "source": [
    "## 2.3.2 Identify any patterns or clusters of restaurants in specific areas."
   ]
  },
  {
   "cell_type": "code",
   "execution_count": null,
   "id": "04655930-ff8b-4df2-bc82-9f3c5bf6bbea",
   "metadata": {},
   "outputs": [],
   "source": [
    "X=restaurant_df[['Latitude','Longitude']]\n",
    "num_cluster=5\n",
    "# k mean clustering\n",
    "kmeans=KMeans(n_clusters=num_cluster,n_init=10,random_state=42)\n",
    "restaurant_df['cluster']=kmeans.fit_predict(X)\n"
   ]
  },
  {
   "cell_type": "code",
   "execution_count": null,
   "id": "0213e974-3f99-4d74-bfe1-f716a602925f",
   "metadata": {},
   "outputs": [],
   "source": [
    "# plot on the map\n",
    "fig=px.scatter_mapbox( restaurant_df, lat='Latitude', lon='Longitude',\n",
    "hover_name='Restaurant Name', hover_data=['Cuisines','Country Code'],\n",
    "color='cluster', color_continuous_scale='reds',\n",
    "zoom=2,\n",
    ")\n",
    "fig.update_layout(\n",
    "mapbox_style=\"open-street-map\",\n",
    ")"
   ]
  },
  {
   "cell_type": "code",
   "execution_count": null,
   "id": "ffd69900-8816-411b-8680-c790f6a82e93",
   "metadata": {},
   "outputs": [],
   "source": [
    "# Plotting the clusters\n",
    "plt.scatter(restaurant_df['Longitude'], restaurant_df['Latitude'], c=restaurant_df['cluster'],\n",
    "cmap='rainbow')\n",
    "plt.title('Restaurant Clusters')\n",
    "plt.xlabel('Longitude')\n",
    "plt.ylabel('Latitude')\n",
    "plt.show()"
   ]
  },
  {
   "cell_type": "markdown",
   "id": "4817843a-b24f-40c9-afb7-b7db035a4055",
   "metadata": {},
   "source": [
    "# Level 2, Task 4: Restaurant Chains\n",
    "## 2.4.1 Identify if there are any restaurant chains present in the dataset"
   ]
  },
  {
   "cell_type": "code",
   "execution_count": null,
   "id": "a369ce46-b9b2-44e0-a4be-89db205ec74c",
   "metadata": {},
   "outputs": [],
   "source": [
    "restaurant_df.head(2)"
   ]
  },
  {
   "cell_type": "code",
   "execution_count": null,
   "id": "8bfb96ff-2ac6-47d2-adef-e89c59d3696c",
   "metadata": {},
   "outputs": [],
   "source": [
    "res_count=restaurant_df['Restaurant Name'].value_counts()\n",
    "potential_chains=res_count[res_count > 10].index\n",
    "print(\"Potential restaurant chains:\")\n",
    "for chain in potential_chains:\n",
    "    print(f\"--{chain}\")"
   ]
  },
  {
   "cell_type": "markdown",
   "id": "3e85e315-068d-4a32-a960-8c392c3d86d8",
   "metadata": {},
   "source": [
    "## 2.4.2 Analyze the ratings and popularity of different restaurant chains"
   ]
  },
  {
   "cell_type": "code",
   "execution_count": null,
   "id": "a8c0c4fc-55fa-416e-b0c6-2b474fa36a55",
   "metadata": {},
   "outputs": [],
   "source": [
    "restaurant_chain_stats=restaurant_df.groupby('Restaurant Name').agg({\n",
    "'Aggregate rating':'mean',\n",
    "'Votes':'sum',\n",
    "}).reset_index()\n",
    "restaurant_chain_stats.columns=['Restaurant Name','Average rating','Total Votes']\n",
    "restaurant_chain_stats=restaurant_chain_stats.sort_values(by='Total Votes',ascending=False)\n",
    "print(\"Restaurant Chain Rating and Popularity Analysis (Sorted by Total Votes):\")\n",
    "print(restaurant_chain_stats.head(20))"
   ]
  },
  {
   "cell_type": "markdown",
   "id": "b33b4ab3-30ce-4b48-a875-6af1efce412e",
   "metadata": {},
   "source": [
    "\n"
   ]
  },
  {
   "cell_type": "code",
   "execution_count": null,
   "id": "09a62c71-e99b-4d09-9deb-1986c2847aa8",
   "metadata": {},
   "outputs": [],
   "source": []
  },
  {
   "cell_type": "code",
   "execution_count": null,
   "id": "4759fa4f-6262-4903-a6d5-765b618bf6e1",
   "metadata": {},
   "outputs": [],
   "source": []
  },
  {
   "cell_type": "markdown",
   "id": "34c74f33-07ad-46de-a6e7-20e982f4504d",
   "metadata": {},
   "source": []
  },
  {
   "cell_type": "markdown",
   "id": "01ad78f0-c165-4082-861b-11379f91c5e5",
   "metadata": {},
   "source": [
    "# Level 3 - Objective\n",
    "- Expertise in Python programming and Data Manipulation\n",
    "- Extract valuable insights from large datasets and drive informed decision-making.\n",
    "- Data cleaning and preprocessing data, performing statistical analysis, or creating data visualizations,\n",
    "- Proficiency in Python will play a crucial role in delivering meaningful results."
   ]
  },
  {
   "cell_type": "markdown",
   "id": "9fcd440c-b503-4f34-ab02-f62a0669d66a",
   "metadata": {},
   "source": [
    "## 1. Load Python Modules"
   ]
  },
  {
   "cell_type": "code",
   "execution_count": null,
   "id": "e6d5ad24-a10d-48ce-9669-0b5bedbf76a7",
   "metadata": {},
   "outputs": [],
   "source": [
    "# import python modules\n",
    "import pandas as pd\n",
    "import numpy as np\n",
    "import seaborn as sns\n",
    "import matplotlib.pyplot as plt\n",
    "# nltk modules\n",
    "from nltk.sentiment import SentimentIntensityAnalyzer\n",
    "from nltk.tokenize import word_tokenize\n",
    "from nltk.corpus import stopwords\n",
    "from collections import Counter"
   ]
  },
  {
   "cell_type": "code",
   "execution_count": null,
   "id": "a5b1c895-dd47-471d-8926-c51fc3506a97",
   "metadata": {},
   "outputs": [],
   "source": [
    "import nltk\n",
    "nltk.download('vader_lexicon')\n",
    "nltk.download('stopwords')\n",
    "nltk.download('punkt')"
   ]
  },
  {
   "cell_type": "markdown",
   "id": "fefac052-2416-4980-a2ae-cce9b5d4f376",
   "metadata": {},
   "source": [
    "## 2. Read the Dataset from CSV file - Using Pandas"
   ]
  },
  {
   "cell_type": "code",
   "execution_count": null,
   "id": "a5918411-029c-481f-89d1-379496e063b1",
   "metadata": {},
   "outputs": [],
   "source": [
    "restaurant_df=pd.read_csv(r\"C:\\Users\\HP\\Downloads\\Dataset .csv\")\n",
    "restaurant_df"
   ]
  },
  {
   "cell_type": "markdown",
   "id": "b52342a3-145c-4e85-bb93-a75782294202",
   "metadata": {},
   "source": [
    "## 3. Basic Inspection on given dataset"
   ]
  },
  {
   "cell_type": "code",
   "execution_count": null,
   "id": "384b5dee-3e16-4b24-a6c2-0c45ebe03984",
   "metadata": {},
   "outputs": [],
   "source": [
    "def basic_inspection_dataset(table):\n",
    "    print(\"top 5 rows - using head\")\n",
    "    print(table.head())\n",
    "    print()\n",
    "    print(\"bottom 5 rows using tail\")\n",
    "    print(table.tail())\n",
    "    print()\n",
    "    print(\"numbers of samples and columns\")\n",
    "    print(table.shape)\n",
    "    print()\n",
    "    print(\"numbers of samples \")\n",
    "    print(len(table))\n",
    "    print()\n",
    "    print(\"numbers of entries in the data frame\")\n",
    "    print(table.size)\n",
    "    print()\n",
    "    print(\"Columns Names\")\n",
    "    print(table.columns)\n",
    "    print()\n",
    "    print(\"Columns dtypes\")\n",
    "    print(table.dtypes)\n",
    "    print()\n",
    "    print(\"Dataframe info\")\n",
    "    print(table.info())\n",
    "    print()\n",
    "    print()\n",
    "    print(\"check the missing value in each column\")\n",
    "    print(table.isnull().sum())\n",
    "    print()\n",
    "    print(\"check the missing value in each column\")\n",
    "    print(table.isna().sum())\n",
    "basic_inspection_dataset(restaurant_df)"
   ]
  },
  {
   "cell_type": "markdown",
   "id": "b2d475fe-f7f7-484e-99af-3307b4b7088c",
   "metadata": {},
   "source": [
    "## 4. Handling Missing Values"
   ]
  },
  {
   "cell_type": "code",
   "execution_count": null,
   "id": "c27b65ca-0c53-4d74-b135-f3afe1662e09",
   "metadata": {},
   "outputs": [],
   "source": [
    "#For a categorical variable, determine the most frequent value, known as the mode.\n",
    "cuisine_mode = restaurant_df['Cuisines'].mode()[0]\n",
    "print(cuisine_mode)\n",
    "# fill the missing value with mode\n",
    "restaurant_df['Cuisines'].fillna(cuisine_mode,inplace=True)\n",
    "# check for missing values - for confirmation\n",
    "restaurant_df.isnull().sum()"
   ]
  },
  {
   "cell_type": "markdown",
   "id": "c19036c4-7274-4b9b-a6ce-dda0a551ab09",
   "metadata": {},
   "source": [
    "# Level 3, Task 1:Task: Restaurant Reviews\n",
    "## 3.1.1 Analyze the text reviews to identify the most common positive and negative keywords"
   ]
  },
  {
   "cell_type": "code",
   "execution_count": null,
   "id": "2d05acb3-792f-416f-8668-200fc02eb69a",
   "metadata": {},
   "outputs": [],
   "source": [
    "rating_test=restaurant_df['Rating text'].value_counts().reset_index()\n",
    "rating_test.columns=[\"Rating-Type\",\"Count\"]\n",
    "rating_test"
   ]
  },
  {
   "cell_type": "code",
   "execution_count": null,
   "id": "864956c9-ce68-4786-8638-9f804eb64550",
   "metadata": {},
   "outputs": [],
   "source": [
    "# Example criteria for positive and negative reviews\n",
    "positive_reviews = [\"Excellent\", \"Very Good\", \"Good\"]\n",
    "negative_reviews = [\"Poor\", \"Terrible\"]\n",
    "\n",
    "# Add a new column 'Review_Type' to classify reviews as 'Positive' or 'Negative'\n",
    "restaurant_df['Review_Type'] = restaurant_df['Rating text'].apply(\n",
    "    lambda x: 'Positive' if x in positive_reviews else 'Negative' if x in negative_reviews else 'Rated'\n",
    ")\n",
    "\n",
    "# Count the number of positive and negative reviews\n",
    "review_counts = restaurant_df['Review_Type'].value_counts().reset_index()\n",
    "review_counts.columns = [\"Review_Type\", \"Count\"]\n",
    "\n",
    "print(review_counts)\n"
   ]
  },
  {
   "cell_type": "markdown",
   "id": "84a367b5-c132-4992-9c44-7afd1d9d1d91",
   "metadata": {},
   "source": [
    "## 3.1.2 Calculate the average length of reviews and explore if there is a relationship between review length and rating."
   ]
  },
  {
   "cell_type": "code",
   "execution_count": null,
   "id": "3b67dbf6-cfa6-456a-9452-f0c64548b78a",
   "metadata": {},
   "outputs": [],
   "source": [
    "restaurant_df['Review Length']=restaurant_df['Rating text'].apply(lambda x: len(str(x)))\n",
    "avg_rev_len=restaurant_df.groupby('Aggregate rating')['Review Length'].mean()\n",
    "avg_rev_df = pd.DataFrame(avg_rev_len).reset_index()\n",
    "\n",
    "plt.figure(figsize=(10,10))\n",
    "avg_rev_df.plot(kind='bar',color='green')\n",
    "#plt.bar(x=avg_rev_df[\"Aggregate rating\"],height=avg_rev_df['ReviewLength'])\n",
    "plt.title('Average Review Length For Each Rating Category')\n",
    "plt.xlabel('Aggregate Rating')\n",
    "plt.ylabel('Average review length')\n",
    "plt.show()"
   ]
  },
  {
   "cell_type": "markdown",
   "id": "17ef70bf-6205-4e7a-ba68-ccf8f8df0db1",
   "metadata": {},
   "source": [
    "# Level 3 , Task 2 : Votes Analysis\n",
    "## 3.2.1 Identify the restaurants with the highest and lowest number of votes."
   ]
  },
  {
   "cell_type": "code",
   "execution_count": null,
   "id": "00ae8626-9169-48db-81d1-33a246a7ca95",
   "metadata": {},
   "outputs": [],
   "source": [
    "cols = ['Votes','Restaurant Name']\n",
    "df_votes_restaurants=restaurant_df[cols]\n",
    "print()\n",
    "print('Restaurant with highest Votes:')\n",
    "print(df_votes_restaurants.sort_values(by=\"Votes\").tail(1))\n",
    "print()\n",
    "print('Restaurant with lowest Votes:')\n",
    "print(df_votes_restaurants.sort_values(by=\"Votes\").head(90))"
   ]
  },
  {
   "cell_type": "markdown",
   "id": "e70867cc-2ca0-4eb0-a145-8a0c27dbc150",
   "metadata": {},
   "source": [
    "## 3.2.2 Analyze if there is a correlation between the number of votes and the rating of a restaurant."
   ]
  },
  {
   "cell_type": "code",
   "execution_count": null,
   "id": "f19b801c-7c77-4f33-b915-9ad07cdf18fa",
   "metadata": {},
   "outputs": [],
   "source": [
    "cols = ['Votes','Aggregate rating']\n",
    "df_corr_analysis = restaurant_df[cols]\n",
    "df_corr_analysis"
   ]
  },
  {
   "cell_type": "code",
   "execution_count": null,
   "id": "82835f59-9dcd-4a3c-b26b-531b808b9c86",
   "metadata": {},
   "outputs": [],
   "source": [
    "corr=df_corr_analysis.corr()\n",
    "corr"
   ]
  },
  {
   "cell_type": "code",
   "execution_count": null,
   "id": "57a10e8b-d90b-4bbe-8aa6-c9470548668e",
   "metadata": {},
   "outputs": [],
   "source": [
    "plt.figure(figsize=(8,8))\n",
    "sns.scatterplot(x='Votes',y='Aggregate rating',data=df_corr_analysis)\n",
    "plt.title('Relation between Number of Votes and Restaurant Rating')\n",
    "plt.xlabel(\"Number of Votes\")\n",
    "plt.ylabel('Aggregate Rating')\n",
    "plt.show()"
   ]
  },
  {
   "cell_type": "markdown",
   "id": "746e1d29-094f-45cb-9ef0-e3007a523c20",
   "metadata": {},
   "source": [
    "# Level 3 , Task 3 : Price Range vs. Online Delivery and Table Booking\n",
    "## 3.3.1 Analyze if there is a relationship between the price range and the availability of online delivery and table booking"
   ]
  },
  {
   "cell_type": "code",
   "execution_count": null,
   "id": "9508039f-8927-4e5d-b596-fe29b19c2f78",
   "metadata": {},
   "outputs": [],
   "source": [
    "restaurant_df.head()"
   ]
  },
  {
   "cell_type": "code",
   "execution_count": null,
   "id": "cda86b2f-e830-4e1c-bf78-4e0ba7cfb70c",
   "metadata": {},
   "outputs": [],
   "source": [
    "cols = ['Price range','Has Online delivery','Has Table booking']\n",
    "df_analysis=restaurant_df[cols].copy()\n",
    "df_analysis['Has Online delivery']=df_analysis['Has Online delivery'].map({'Yes':True,'No':False})\n",
    "df_analysis['Has Table booking']=df_analysis['Has Table booking'].map({'Yes':True,'No':False})\n",
    "df_analysis"
   ]
  },
  {
   "cell_type": "code",
   "execution_count": null,
   "id": "ce92a402-080a-4928-b1fc-ec40ac53507c",
   "metadata": {},
   "outputs": [],
   "source": [
    "summary_table=pd.pivot_table(df_analysis,index='Price range',values=\n",
    "['Has Online delivery','Has Table booking'],aggfunc=sum)\n",
    "print('Summary Table:')\n",
    "summary_table"
   ]
  },
  {
   "cell_type": "code",
   "execution_count": null,
   "id": "1b545916-8a54-4d62-a857-22c8f451a3d7",
   "metadata": {},
   "outputs": [],
   "source": [
    "plt.figure(figsize=(10,8))\n",
    "summary_table.plot(kind='bar',stacked=True,colormap='viridis')\n",
    "plt.title('Relationship between price Range and Availibility')\n",
    "plt.xlabel('Price range')\n",
    "plt.ylabel('Count')\n",
    "plt.legend(title='Feature',loc='upper right')\n",
    "plt.show()"
   ]
  },
  {
   "cell_type": "markdown",
   "id": "1271335e-bbbb-4ce1-885b-31b372e9583e",
   "metadata": {},
   "source": [
    "## 3.3.2 Determine if higher-priced restaurants are more likely to offer these services"
   ]
  },
  {
   "cell_type": "code",
   "execution_count": null,
   "id": "d50fe0a5-d4c7-4ecd-b772-6534a410e886",
   "metadata": {},
   "outputs": [],
   "source": [
    "plt.figure(figsize=(10,6))\n",
    "plt.subplot(1,2,1)\n",
    "sns.countplot(x='Price range' , hue='Has Online delivery' ,\n",
    "data=df_analysis)\n",
    "plt.title('Online Delivery Avalibility by Price Range')\n",
    "plt.subplot(1,2,2)\n",
    "sns.countplot(x='Price range', hue='Has Table booking',\n",
    "data=df_analysis)\n",
    "plt.title('Table Booking Availibility by Price range')\n",
    "plt.tight_layout()\n",
    "plt.show()"
   ]
  },
  {
   "cell_type": "code",
   "execution_count": null,
   "id": "bc6aeb7e-7b5a-445b-88ff-62c3f91068a8",
   "metadata": {},
   "outputs": [],
   "source": []
  }
 ],
 "metadata": {
  "kernelspec": {
   "display_name": "Python 3 (ipykernel)",
   "language": "python",
   "name": "python3"
  },
  "language_info": {
   "codemirror_mode": {
    "name": "ipython",
    "version": 3
   },
   "file_extension": ".py",
   "mimetype": "text/x-python",
   "name": "python",
   "nbconvert_exporter": "python",
   "pygments_lexer": "ipython3",
   "version": "3.12.3"
  }
 },
 "nbformat": 4,
 "nbformat_minor": 5
}
